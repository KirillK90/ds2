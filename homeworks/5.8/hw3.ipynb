{
 "cells": [
  {
   "cell_type": "markdown",
   "metadata": {},
   "source": [
    "# Домашнее задание 3\n",
    "\n",
    "## Сбор данных из интернета и генерация текстов\n",
    "\n",
    "В этом домашнем задании вам предстоит: \n",
    "1. выбрать свой источник структурированных данных (прогноз погоды, курс акций, счет спортивных мероприятий, или что-нибудь еще) \n",
    "2. научиться извлекать данные из с выбранной веб-страницы\n",
    "3. научиться генерировать текст по шаблонам"
   ]
  },
  {
   "cell_type": "markdown",
   "metadata": {},
   "source": [
    "## Часть 1\n",
    "\n",
    "Выберете источник данных, который вам симпатичен. По умолчанию, предлагаем использовать данные о погоде в Москве: \n",
    "https://www.gismeteo.ru/weather-moscow-4368/. Извлеките из html-кода страницы температуру сегодня, уровень осадков и скорость ветра."
   ]
  },
  {
   "cell_type": "code",
   "execution_count": 1,
   "metadata": {
    "collapsed": true
   },
   "outputs": [],
   "source": [
    "import pandas as pd\n",
    "import re\n",
    "import urllib.request\n",
    "\n",
    "from scrapy.selector import Selector\n",
    "from scrapy.http import HtmlResponse\n",
    "from tqdm import tqdm"
   ]
  },
  {
   "cell_type": "code",
   "execution_count": 2,
   "metadata": {
    "collapsed": true
   },
   "outputs": [],
   "source": [
    "url = \"https://www.gismeteo.ru/weather-moscow-4368/now/\"\n",
    "req = urllib.request.Request(url, headers={'User-Agent': \"Magic Browser\"})\n",
    "html = urllib.request.urlopen(url)\n",
    "html = html.read()"
   ]
  },
  {
   "cell_type": "code",
   "execution_count": 3,
   "metadata": {
    "collapsed": true
   },
   "outputs": [],
   "source": [
    "temperText = Selector(text=html).xpath('/html/body/section/div/div/div[1]/div[3]/div[1]/div[1]/div/div/div[1]/div[3]/div[1]/span').extract()[0]"
   ]
  },
  {
   "cell_type": "code",
   "execution_count": 4,
   "metadata": {
    "collapsed": true
   },
   "outputs": [],
   "source": [
    "regInt = re.compile('[\\-\\+0-9]{2,}')\n",
    "regFloat = re.compile('[\\,0-9]{2,}')"
   ]
  },
  {
   "cell_type": "code",
   "execution_count": 5,
   "metadata": {},
   "outputs": [
    {
     "data": {
      "text/plain": [
       "1.8"
      ]
     },
     "execution_count": 5,
     "metadata": {},
     "output_type": "execute_result"
    }
   ],
   "source": [
    "temperature =  regInt.search(temperText)[0] + regFloat.search(temperText)[0]\n",
    "temperature = float(temperature.replace(',', '.'))\n",
    "temperature"
   ]
  },
  {
   "cell_type": "code",
   "execution_count": 6,
   "metadata": {
    "collapsed": true
   },
   "outputs": [],
   "source": [
    "windSpeedText = Selector(text=html).xpath('/html/body/section/div/div/div[1]/div[3]/div[1]/div[2]/div/div[6]/div[1]/div').extract()[0]"
   ]
  },
  {
   "cell_type": "code",
   "execution_count": 7,
   "metadata": {
    "collapsed": true
   },
   "outputs": [],
   "source": [
    "regRusText = re.compile('[А-Яа-я]{1,}')\n",
    "regNum = re.compile('[0-9]{1,}')"
   ]
  },
  {
   "cell_type": "code",
   "execution_count": 8,
   "metadata": {
    "collapsed": true
   },
   "outputs": [],
   "source": [
    "windSpeedText = regRusText.search(windSpeedText)[0] + \" \" + regNum.search(windSpeedText)[0] + \" м/с.\" "
   ]
  },
  {
   "cell_type": "code",
   "execution_count": 9,
   "metadata": {},
   "outputs": [
    {
     "data": {
      "text/plain": [
       "'Ветер 2 м/с.'"
      ]
     },
     "execution_count": 9,
     "metadata": {},
     "output_type": "execute_result"
    }
   ],
   "source": [
    "windSpeedText"
   ]
  },
  {
   "cell_type": "code",
   "execution_count": 10,
   "metadata": {},
   "outputs": [
    {
     "data": {
      "text/plain": [
       "<_sre.SRE_Match object; span=(0, 5), match='Ветер'>"
      ]
     },
     "execution_count": 10,
     "metadata": {},
     "output_type": "execute_result"
    }
   ],
   "source": [
    "regRusText.search(windSpeedText)\n"
   ]
  },
  {
   "cell_type": "code",
   "execution_count": 11,
   "metadata": {
    "collapsed": true
   },
   "outputs": [],
   "source": [
    "wetText = Selector(text=html).xpath('/html/body/section/div/div/div[1]/div[3]/div[1]/div[2]/div/div[6]/div[3]').extract()[0]"
   ]
  },
  {
   "cell_type": "code",
   "execution_count": 12,
   "metadata": {
    "collapsed": true
   },
   "outputs": [],
   "source": [
    "wetText = regRusText.search(wetText)[0] + \" \" + regNum.search(wetText)[0] + \" %.\""
   ]
  },
  {
   "cell_type": "code",
   "execution_count": 13,
   "metadata": {},
   "outputs": [
    {
     "data": {
      "text/plain": [
       "'Влажность 92 %.'"
      ]
     },
     "execution_count": 13,
     "metadata": {},
     "output_type": "execute_result"
    }
   ],
   "source": [
    "wetText"
   ]
  },
  {
   "cell_type": "markdown",
   "metadata": {},
   "source": [
    "## Часть 2\n",
    "Запрограммируйте шаблон, описывающие температуру, уровень осадков и скорость ветра сегодня. Например,\n",
    "\"Температура сегодня составляет X градусов\", где Х – излеченное выше число. Сгенерируйте таким образом описание погоды сегодня. Учтите, величина X влияет на грамматическое число, использованное в единицах измерения (\"двадцать градусов\", но \"двадцать один градус\"). Используйте бибилиотеку utg или дополнительные функции pymorphy2"
   ]
  },
  {
   "cell_type": "code",
   "execution_count": 15,
   "metadata": {
    "collapsed": true
   },
   "outputs": [],
   "source": [
    "def weather():\n",
    "    import pymorphy2\n",
    "    import pandas as pd\n",
    "    import re\n",
    "    import urllib.request\n",
    "    from time import gmtime, strftime\n",
    "    from scrapy.selector import Selector\n",
    "    from scrapy.http import HtmlResponse\n",
    "    from tqdm import tqdm\n",
    "    \n",
    "    morph = pymorphy2.MorphAnalyzer()\n",
    "    ruDegree = morph.parse('градус')[0];\n",
    "    \n",
    "    url = \"https://www.gismeteo.ru/weather-moscow-4368/now/\"\n",
    "    req = urllib.request.Request(url, headers={'User-Agent': \"Magic Browser\"})\n",
    "    html = urllib.request.urlopen(url)\n",
    "    html = html.read()\n",
    "    \n",
    "    regInt = re.compile('[\\-\\+0-9]{2,}')\n",
    "    regFloat = re.compile('[\\,0-9]{2,}')\n",
    "    regRusText = re.compile('[А-Яа-я]{1,}')\n",
    "    regNum = re.compile('[0-9]{1,}')\n",
    "    \n",
    "    temperText = Selector(text=html).xpath('/html/body/section/div/div/div[1]/div[3]/div[1]/div[1]/div/div/div[1]/div[3]/div[1]/span').extract()[0]\n",
    "    temperature =  regInt.search(temperText)[0] + regFloat.search(temperText)[0]\n",
    "    temperature = float(temperature.replace(',', '.'))\n",
    "    \n",
    "    \n",
    "    \n",
    "    windSpeedText = Selector(text=html).xpath('/html/body/section/div/div/div[1]/div[3]/div[1]/div[2]/div/div[6]/div[1]/div').extract()[0]\n",
    "    windSpeedText = regRusText.search(windSpeedText)[0] + \" \" + regNum.search(windSpeedText)[0] + \" м/с.\" \n",
    "    \n",
    "    wetText = Selector(text=html).xpath('/html/body/section/div/div/div[1]/div[3]/div[1]/div[2]/div/div[6]/div[3]').extract()[0]\n",
    "    wetText = regRusText.search(wetText)[0] + \" \" + regNum.search(wetText)[0] + \" %.\"\n",
    "    \n",
    "    print(strftime(\"%Y-%m-%d %H:%M:%S\", gmtime()))\n",
    "    print('Сейчас в Москве {0} {1} (\\xB0C).'.format(temperature, ruDegree.make_agree_with_number(temperature).word))\n",
    "    print(windSpeedText)\n",
    "    print(wetText)"
   ]
  },
  {
   "cell_type": "code",
   "execution_count": 16,
   "metadata": {},
   "outputs": [
    {
     "name": "stdout",
     "output_type": "stream",
     "text": [
      "2017-12-30 18:24:39\n",
      "Сейчас в Москве 1.8 градусов (°C).\n",
      "Ветер 2 м/с.\n",
      "Влажность 92 %.\n"
     ]
    }
   ],
   "source": [
    "weather()"
   ]
  },
  {
   "cell_type": "markdown",
   "metadata": {
    "collapsed": true
   },
   "source": [
    "## Часть 3 (необязательная)\n",
    "Соберите данные не только за сегодняшний, но и за вчерашний день, и напишите шаблоны, которые сравнивают вчерашние и сегодняшние показатели (например, \"сегодня похолодало на Х градусов по сравнению со вчера\")."
   ]
  }
 ],
 "metadata": {
  "kernelspec": {
   "display_name": "Python 3",
   "language": "python",
   "name": "python3"
  },
  "language_info": {
   "codemirror_mode": {
    "name": "ipython",
    "version": 3
   },
   "file_extension": ".py",
   "mimetype": "text/x-python",
   "name": "python",
   "nbconvert_exporter": "python",
   "pygments_lexer": "ipython3",
   "version": "3.6.3"
  }
 },
 "nbformat": 4,
 "nbformat_minor": 2
}
